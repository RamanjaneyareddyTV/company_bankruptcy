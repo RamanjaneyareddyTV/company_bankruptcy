{
 "cells": [
  {
   "cell_type": "code",
   "execution_count": 1,
   "id": "dcfdfb8f-de15-4b4a-ac41-46c44acf49f3",
   "metadata": {},
   "outputs": [],
   "source": [
    "import pandas as pd\n",
    "import numpy as np\n",
    "import matplotlib.pyplot as plt\n",
    "import seaborn as sns"
   ]
  },
  {
   "cell_type": "code",
   "execution_count": 2,
   "id": "b7ec96a4-8525-4341-8698-28f634cc4976",
   "metadata": {},
   "outputs": [],
   "source": [
    "data = pd.read_csv('data.csv')"
   ]
  },
  {
   "cell_type": "code",
   "execution_count": 3,
   "id": "7b06fe4a-20da-4926-a2a0-e6b31a5832b3",
   "metadata": {
    "collapsed": true,
    "jupyter": {
     "outputs_hidden": true
    },
    "tags": []
   },
   "outputs": [
    {
     "data": {
      "text/html": [
       "<div>\n",
       "<style scoped>\n",
       "    .dataframe tbody tr th:only-of-type {\n",
       "        vertical-align: middle;\n",
       "    }\n",
       "\n",
       "    .dataframe tbody tr th {\n",
       "        vertical-align: top;\n",
       "    }\n",
       "\n",
       "    .dataframe thead th {\n",
       "        text-align: right;\n",
       "    }\n",
       "</style>\n",
       "<table border=\"1\" class=\"dataframe\">\n",
       "  <thead>\n",
       "    <tr style=\"text-align: right;\">\n",
       "      <th></th>\n",
       "      <th>Bankrupt?</th>\n",
       "      <th>ROA(C) before interest and depreciation before interest</th>\n",
       "      <th>ROA(A) before interest and % after tax</th>\n",
       "      <th>ROA(B) before interest and depreciation after tax</th>\n",
       "      <th>Operating Gross Margin</th>\n",
       "      <th>Realized Sales Gross Margin</th>\n",
       "      <th>Operating Profit Rate</th>\n",
       "      <th>Pre-tax net Interest Rate</th>\n",
       "      <th>After-tax net Interest Rate</th>\n",
       "      <th>Non-industry income and expenditure/revenue</th>\n",
       "      <th>...</th>\n",
       "      <th>Net Income to Total Assets</th>\n",
       "      <th>Total assets to GNP price</th>\n",
       "      <th>No-credit Interval</th>\n",
       "      <th>Gross Profit to Sales</th>\n",
       "      <th>Net Income to Stockholder's Equity</th>\n",
       "      <th>Liability to Equity</th>\n",
       "      <th>Degree of Financial Leverage (DFL)</th>\n",
       "      <th>Interest Coverage Ratio (Interest expense to EBIT)</th>\n",
       "      <th>Net Income Flag</th>\n",
       "      <th>Equity to Liability</th>\n",
       "    </tr>\n",
       "  </thead>\n",
       "  <tbody>\n",
       "    <tr>\n",
       "      <th>0</th>\n",
       "      <td>1</td>\n",
       "      <td>0.370594</td>\n",
       "      <td>0.424389</td>\n",
       "      <td>0.405750</td>\n",
       "      <td>0.601457</td>\n",
       "      <td>0.601457</td>\n",
       "      <td>0.998969</td>\n",
       "      <td>0.796887</td>\n",
       "      <td>0.808809</td>\n",
       "      <td>0.302646</td>\n",
       "      <td>...</td>\n",
       "      <td>0.716845</td>\n",
       "      <td>0.009219</td>\n",
       "      <td>0.622879</td>\n",
       "      <td>0.601453</td>\n",
       "      <td>0.827890</td>\n",
       "      <td>0.290202</td>\n",
       "      <td>0.026601</td>\n",
       "      <td>0.564050</td>\n",
       "      <td>1</td>\n",
       "      <td>0.016469</td>\n",
       "    </tr>\n",
       "    <tr>\n",
       "      <th>1</th>\n",
       "      <td>1</td>\n",
       "      <td>0.464291</td>\n",
       "      <td>0.538214</td>\n",
       "      <td>0.516730</td>\n",
       "      <td>0.610235</td>\n",
       "      <td>0.610235</td>\n",
       "      <td>0.998946</td>\n",
       "      <td>0.797380</td>\n",
       "      <td>0.809301</td>\n",
       "      <td>0.303556</td>\n",
       "      <td>...</td>\n",
       "      <td>0.795297</td>\n",
       "      <td>0.008323</td>\n",
       "      <td>0.623652</td>\n",
       "      <td>0.610237</td>\n",
       "      <td>0.839969</td>\n",
       "      <td>0.283846</td>\n",
       "      <td>0.264577</td>\n",
       "      <td>0.570175</td>\n",
       "      <td>1</td>\n",
       "      <td>0.020794</td>\n",
       "    </tr>\n",
       "    <tr>\n",
       "      <th>2</th>\n",
       "      <td>1</td>\n",
       "      <td>0.426071</td>\n",
       "      <td>0.499019</td>\n",
       "      <td>0.472295</td>\n",
       "      <td>0.601450</td>\n",
       "      <td>0.601364</td>\n",
       "      <td>0.998857</td>\n",
       "      <td>0.796403</td>\n",
       "      <td>0.808388</td>\n",
       "      <td>0.302035</td>\n",
       "      <td>...</td>\n",
       "      <td>0.774670</td>\n",
       "      <td>0.040003</td>\n",
       "      <td>0.623841</td>\n",
       "      <td>0.601449</td>\n",
       "      <td>0.836774</td>\n",
       "      <td>0.290189</td>\n",
       "      <td>0.026555</td>\n",
       "      <td>0.563706</td>\n",
       "      <td>1</td>\n",
       "      <td>0.016474</td>\n",
       "    </tr>\n",
       "    <tr>\n",
       "      <th>3</th>\n",
       "      <td>1</td>\n",
       "      <td>0.399844</td>\n",
       "      <td>0.451265</td>\n",
       "      <td>0.457733</td>\n",
       "      <td>0.583541</td>\n",
       "      <td>0.583541</td>\n",
       "      <td>0.998700</td>\n",
       "      <td>0.796967</td>\n",
       "      <td>0.808966</td>\n",
       "      <td>0.303350</td>\n",
       "      <td>...</td>\n",
       "      <td>0.739555</td>\n",
       "      <td>0.003252</td>\n",
       "      <td>0.622929</td>\n",
       "      <td>0.583538</td>\n",
       "      <td>0.834697</td>\n",
       "      <td>0.281721</td>\n",
       "      <td>0.026697</td>\n",
       "      <td>0.564663</td>\n",
       "      <td>1</td>\n",
       "      <td>0.023982</td>\n",
       "    </tr>\n",
       "    <tr>\n",
       "      <th>4</th>\n",
       "      <td>1</td>\n",
       "      <td>0.465022</td>\n",
       "      <td>0.538432</td>\n",
       "      <td>0.522298</td>\n",
       "      <td>0.598783</td>\n",
       "      <td>0.598783</td>\n",
       "      <td>0.998973</td>\n",
       "      <td>0.797366</td>\n",
       "      <td>0.809304</td>\n",
       "      <td>0.303475</td>\n",
       "      <td>...</td>\n",
       "      <td>0.795016</td>\n",
       "      <td>0.003878</td>\n",
       "      <td>0.623521</td>\n",
       "      <td>0.598782</td>\n",
       "      <td>0.839973</td>\n",
       "      <td>0.278514</td>\n",
       "      <td>0.024752</td>\n",
       "      <td>0.575617</td>\n",
       "      <td>1</td>\n",
       "      <td>0.035490</td>\n",
       "    </tr>\n",
       "  </tbody>\n",
       "</table>\n",
       "<p>5 rows × 96 columns</p>\n",
       "</div>"
      ],
      "text/plain": [
       "   Bankrupt?   ROA(C) before interest and depreciation before interest  \\\n",
       "0          1                                           0.370594          \n",
       "1          1                                           0.464291          \n",
       "2          1                                           0.426071          \n",
       "3          1                                           0.399844          \n",
       "4          1                                           0.465022          \n",
       "\n",
       "    ROA(A) before interest and % after tax  \\\n",
       "0                                 0.424389   \n",
       "1                                 0.538214   \n",
       "2                                 0.499019   \n",
       "3                                 0.451265   \n",
       "4                                 0.538432   \n",
       "\n",
       "    ROA(B) before interest and depreciation after tax  \\\n",
       "0                                           0.405750    \n",
       "1                                           0.516730    \n",
       "2                                           0.472295    \n",
       "3                                           0.457733    \n",
       "4                                           0.522298    \n",
       "\n",
       "    Operating Gross Margin   Realized Sales Gross Margin  \\\n",
       "0                 0.601457                      0.601457   \n",
       "1                 0.610235                      0.610235   \n",
       "2                 0.601450                      0.601364   \n",
       "3                 0.583541                      0.583541   \n",
       "4                 0.598783                      0.598783   \n",
       "\n",
       "    Operating Profit Rate   Pre-tax net Interest Rate  \\\n",
       "0                0.998969                    0.796887   \n",
       "1                0.998946                    0.797380   \n",
       "2                0.998857                    0.796403   \n",
       "3                0.998700                    0.796967   \n",
       "4                0.998973                    0.797366   \n",
       "\n",
       "    After-tax net Interest Rate   Non-industry income and expenditure/revenue  \\\n",
       "0                      0.808809                                      0.302646   \n",
       "1                      0.809301                                      0.303556   \n",
       "2                      0.808388                                      0.302035   \n",
       "3                      0.808966                                      0.303350   \n",
       "4                      0.809304                                      0.303475   \n",
       "\n",
       "   ...   Net Income to Total Assets   Total assets to GNP price  \\\n",
       "0  ...                     0.716845                    0.009219   \n",
       "1  ...                     0.795297                    0.008323   \n",
       "2  ...                     0.774670                    0.040003   \n",
       "3  ...                     0.739555                    0.003252   \n",
       "4  ...                     0.795016                    0.003878   \n",
       "\n",
       "    No-credit Interval   Gross Profit to Sales  \\\n",
       "0             0.622879                0.601453   \n",
       "1             0.623652                0.610237   \n",
       "2             0.623841                0.601449   \n",
       "3             0.622929                0.583538   \n",
       "4             0.623521                0.598782   \n",
       "\n",
       "    Net Income to Stockholder's Equity   Liability to Equity  \\\n",
       "0                             0.827890              0.290202   \n",
       "1                             0.839969              0.283846   \n",
       "2                             0.836774              0.290189   \n",
       "3                             0.834697              0.281721   \n",
       "4                             0.839973              0.278514   \n",
       "\n",
       "    Degree of Financial Leverage (DFL)  \\\n",
       "0                             0.026601   \n",
       "1                             0.264577   \n",
       "2                             0.026555   \n",
       "3                             0.026697   \n",
       "4                             0.024752   \n",
       "\n",
       "    Interest Coverage Ratio (Interest expense to EBIT)   Net Income Flag  \\\n",
       "0                                           0.564050                   1   \n",
       "1                                           0.570175                   1   \n",
       "2                                           0.563706                   1   \n",
       "3                                           0.564663                   1   \n",
       "4                                           0.575617                   1   \n",
       "\n",
       "    Equity to Liability  \n",
       "0              0.016469  \n",
       "1              0.020794  \n",
       "2              0.016474  \n",
       "3              0.023982  \n",
       "4              0.035490  \n",
       "\n",
       "[5 rows x 96 columns]"
      ]
     },
     "execution_count": 3,
     "metadata": {},
     "output_type": "execute_result"
    }
   ],
   "source": [
    "data.head()"
   ]
  },
  {
   "cell_type": "code",
   "execution_count": 4,
   "id": "44a13128-7393-405a-9343-ae3e9a153cd3",
   "metadata": {
    "collapsed": true,
    "jupyter": {
     "outputs_hidden": true
    },
    "tags": []
   },
   "outputs": [
    {
     "name": "stdout",
     "output_type": "stream",
     "text": [
      "<class 'pandas.core.frame.DataFrame'>\n",
      "RangeIndex: 6819 entries, 0 to 6818\n",
      "Data columns (total 96 columns):\n",
      " #   Column                                                    Non-Null Count  Dtype  \n",
      "---  ------                                                    --------------  -----  \n",
      " 0   Bankrupt?                                                 6819 non-null   int64  \n",
      " 1    ROA(C) before interest and depreciation before interest  6819 non-null   float64\n",
      " 2    ROA(A) before interest and % after tax                   6819 non-null   float64\n",
      " 3    ROA(B) before interest and depreciation after tax        6819 non-null   float64\n",
      " 4    Operating Gross Margin                                   6819 non-null   float64\n",
      " 5    Realized Sales Gross Margin                              6819 non-null   float64\n",
      " 6    Operating Profit Rate                                    6819 non-null   float64\n",
      " 7    Pre-tax net Interest Rate                                6819 non-null   float64\n",
      " 8    After-tax net Interest Rate                              6819 non-null   float64\n",
      " 9    Non-industry income and expenditure/revenue              6819 non-null   float64\n",
      " 10   Continuous interest rate (after tax)                     6819 non-null   float64\n",
      " 11   Operating Expense Rate                                   6819 non-null   float64\n",
      " 12   Research and development expense rate                    6819 non-null   float64\n",
      " 13   Cash flow rate                                           6819 non-null   float64\n",
      " 14   Interest-bearing debt interest rate                      6819 non-null   float64\n",
      " 15   Tax rate (A)                                             6819 non-null   float64\n",
      " 16   Net Value Per Share (B)                                  6819 non-null   float64\n",
      " 17   Net Value Per Share (A)                                  6819 non-null   float64\n",
      " 18   Net Value Per Share (C)                                  6819 non-null   float64\n",
      " 19   Persistent EPS in the Last Four Seasons                  6819 non-null   float64\n",
      " 20   Cash Flow Per Share                                      6819 non-null   float64\n",
      " 21   Revenue Per Share (Yuan ¥)                               6819 non-null   float64\n",
      " 22   Operating Profit Per Share (Yuan ¥)                      6819 non-null   float64\n",
      " 23   Per Share Net profit before tax (Yuan ¥)                 6819 non-null   float64\n",
      " 24   Realized Sales Gross Profit Growth Rate                  6819 non-null   float64\n",
      " 25   Operating Profit Growth Rate                             6819 non-null   float64\n",
      " 26   After-tax Net Profit Growth Rate                         6819 non-null   float64\n",
      " 27   Regular Net Profit Growth Rate                           6819 non-null   float64\n",
      " 28   Continuous Net Profit Growth Rate                        6819 non-null   float64\n",
      " 29   Total Asset Growth Rate                                  6819 non-null   float64\n",
      " 30   Net Value Growth Rate                                    6819 non-null   float64\n",
      " 31   Total Asset Return Growth Rate Ratio                     6819 non-null   float64\n",
      " 32   Cash Reinvestment %                                      6819 non-null   float64\n",
      " 33   Current Ratio                                            6819 non-null   float64\n",
      " 34   Quick Ratio                                              6819 non-null   float64\n",
      " 35   Interest Expense Ratio                                   6819 non-null   float64\n",
      " 36   Total debt/Total net worth                               6819 non-null   float64\n",
      " 37   Debt ratio %                                             6819 non-null   float64\n",
      " 38   Net worth/Assets                                         6819 non-null   float64\n",
      " 39   Long-term fund suitability ratio (A)                     6819 non-null   float64\n",
      " 40   Borrowing dependency                                     6819 non-null   float64\n",
      " 41   Contingent liabilities/Net worth                         6819 non-null   float64\n",
      " 42   Operating profit/Paid-in capital                         6819 non-null   float64\n",
      " 43   Net profit before tax/Paid-in capital                    6819 non-null   float64\n",
      " 44   Inventory and accounts receivable/Net value              6819 non-null   float64\n",
      " 45   Total Asset Turnover                                     6819 non-null   float64\n",
      " 46   Accounts Receivable Turnover                             6819 non-null   float64\n",
      " 47   Average Collection Days                                  6819 non-null   float64\n",
      " 48   Inventory Turnover Rate (times)                          6819 non-null   float64\n",
      " 49   Fixed Assets Turnover Frequency                          6819 non-null   float64\n",
      " 50   Net Worth Turnover Rate (times)                          6819 non-null   float64\n",
      " 51   Revenue per person                                       6819 non-null   float64\n",
      " 52   Operating profit per person                              6819 non-null   float64\n",
      " 53   Allocation rate per person                               6819 non-null   float64\n",
      " 54   Working Capital to Total Assets                          6819 non-null   float64\n",
      " 55   Quick Assets/Total Assets                                6819 non-null   float64\n",
      " 56   Current Assets/Total Assets                              6819 non-null   float64\n",
      " 57   Cash/Total Assets                                        6819 non-null   float64\n",
      " 58   Quick Assets/Current Liability                           6819 non-null   float64\n",
      " 59   Cash/Current Liability                                   6819 non-null   float64\n",
      " 60   Current Liability to Assets                              6819 non-null   float64\n",
      " 61   Operating Funds to Liability                             6819 non-null   float64\n",
      " 62   Inventory/Working Capital                                6819 non-null   float64\n",
      " 63   Inventory/Current Liability                              6819 non-null   float64\n",
      " 64   Current Liabilities/Liability                            6819 non-null   float64\n",
      " 65   Working Capital/Equity                                   6819 non-null   float64\n",
      " 66   Current Liabilities/Equity                               6819 non-null   float64\n",
      " 67   Long-term Liability to Current Assets                    6819 non-null   float64\n",
      " 68   Retained Earnings to Total Assets                        6819 non-null   float64\n",
      " 69   Total income/Total expense                               6819 non-null   float64\n",
      " 70   Total expense/Assets                                     6819 non-null   float64\n",
      " 71   Current Asset Turnover Rate                              6819 non-null   float64\n",
      " 72   Quick Asset Turnover Rate                                6819 non-null   float64\n",
      " 73   Working capitcal Turnover Rate                           6819 non-null   float64\n",
      " 74   Cash Turnover Rate                                       6819 non-null   float64\n",
      " 75   Cash Flow to Sales                                       6819 non-null   float64\n",
      " 76   Fixed Assets to Assets                                   6819 non-null   float64\n",
      " 77   Current Liability to Liability                           6819 non-null   float64\n",
      " 78   Current Liability to Equity                              6819 non-null   float64\n",
      " 79   Equity to Long-term Liability                            6819 non-null   float64\n",
      " 80   Cash Flow to Total Assets                                6819 non-null   float64\n",
      " 81   Cash Flow to Liability                                   6819 non-null   float64\n",
      " 82   CFO to Assets                                            6819 non-null   float64\n",
      " 83   Cash Flow to Equity                                      6819 non-null   float64\n",
      " 84   Current Liability to Current Assets                      6819 non-null   float64\n",
      " 85   Liability-Assets Flag                                    6819 non-null   int64  \n",
      " 86   Net Income to Total Assets                               6819 non-null   float64\n",
      " 87   Total assets to GNP price                                6819 non-null   float64\n",
      " 88   No-credit Interval                                       6819 non-null   float64\n",
      " 89   Gross Profit to Sales                                    6819 non-null   float64\n",
      " 90   Net Income to Stockholder's Equity                       6819 non-null   float64\n",
      " 91   Liability to Equity                                      6819 non-null   float64\n",
      " 92   Degree of Financial Leverage (DFL)                       6819 non-null   float64\n",
      " 93   Interest Coverage Ratio (Interest expense to EBIT)       6819 non-null   float64\n",
      " 94   Net Income Flag                                          6819 non-null   int64  \n",
      " 95   Equity to Liability                                      6819 non-null   float64\n",
      "dtypes: float64(93), int64(3)\n",
      "memory usage: 5.0 MB\n"
     ]
    }
   ],
   "source": [
    "data.info()"
   ]
  },
  {
   "cell_type": "code",
   "execution_count": 5,
   "id": "5ad6ad99-f3e3-4f2c-b818-1cdf0f5b8743",
   "metadata": {
    "collapsed": true,
    "jupyter": {
     "outputs_hidden": true
    },
    "tags": []
   },
   "outputs": [
    {
     "data": {
      "text/plain": [
       "Bankrupt?                                                   0\n",
       " ROA(C) before interest and depreciation before interest    0\n",
       " ROA(A) before interest and % after tax                     0\n",
       " ROA(B) before interest and depreciation after tax          0\n",
       " Operating Gross Margin                                     0\n",
       "                                                           ..\n",
       " Liability to Equity                                        0\n",
       " Degree of Financial Leverage (DFL)                         0\n",
       " Interest Coverage Ratio (Interest expense to EBIT)         0\n",
       " Net Income Flag                                            0\n",
       " Equity to Liability                                        0\n",
       "Length: 96, dtype: int64"
      ]
     },
     "execution_count": 5,
     "metadata": {},
     "output_type": "execute_result"
    }
   ],
   "source": [
    "data.isnull().sum()"
   ]
  },
  {
   "cell_type": "code",
   "execution_count": 6,
   "id": "69e69ccc-2c84-498c-80ad-95758edfc59d",
   "metadata": {},
   "outputs": [],
   "source": [
    "X = data.iloc[:, 1:]\n",
    "y = data.iloc[:,0]"
   ]
  },
  {
   "cell_type": "code",
   "execution_count": 7,
   "id": "6028c3e5-afa7-4a31-aec1-a3694a0aecf2",
   "metadata": {},
   "outputs": [
    {
     "data": {
      "text/plain": [
       "0       1\n",
       "1       1\n",
       "2       1\n",
       "3       1\n",
       "4       1\n",
       "       ..\n",
       "6814    0\n",
       "6815    0\n",
       "6816    0\n",
       "6817    0\n",
       "6818    0\n",
       "Name: Bankrupt?, Length: 6819, dtype: int64"
      ]
     },
     "execution_count": 7,
     "metadata": {},
     "output_type": "execute_result"
    }
   ],
   "source": [
    "y"
   ]
  },
  {
   "cell_type": "code",
   "execution_count": 9,
   "id": "3d5f1663-0e72-48ea-acd2-895449bddfa3",
   "metadata": {},
   "outputs": [],
   "source": [
    "from sklearn.model_selection import train_test_split\n",
    "x_train, x_test, y_train, y_test = train_test_split(X, y, test_size = 0.25)"
   ]
  },
  {
   "cell_type": "code",
   "execution_count": 11,
   "id": "829a80d6-4e51-464a-9fd8-1bda1f38548f",
   "metadata": {},
   "outputs": [
    {
     "name": "stdout",
     "output_type": "stream",
     "text": [
      "(5114, 95)\n",
      "(1705, 95)\n",
      "(5114,)\n",
      "(1705,)\n"
     ]
    }
   ],
   "source": [
    "print(x_train.shape)\n",
    "print(x_test.shape)\n",
    "print(y_train.shape)\n",
    "print(y_test.shape)"
   ]
  },
  {
   "cell_type": "code",
   "execution_count": 13,
   "id": "e8d69cbe-9839-435b-9bed-0620d5e0ae7f",
   "metadata": {},
   "outputs": [
    {
     "name": "stdout",
     "output_type": "stream",
     "text": [
      "0.9730205278592375\n",
      "time consumed is 1.7725341320037842\n"
     ]
    }
   ],
   "source": [
    "# apply support vector machine\n",
    "import time\n",
    "start = time.time()\n",
    "from sklearn.svm import SVC\n",
    "from sklearn.metrics import accuracy_score\n",
    "model = SVC()\n",
    "model.fit(x_train, y_train)\n",
    "y_pred = model.predict(x_test)\n",
    "score = accuracy_score(y_pred, y_test)\n",
    "print(score)\n",
    "end = time.time()\n",
    "print(f'time consumed is {end-start}')"
   ]
  },
  {
   "cell_type": "code",
   "execution_count": 14,
   "id": "dfbe9f59-0443-4213-9944-f14eea9cd229",
   "metadata": {},
   "outputs": [
    {
     "name": "stdout",
     "output_type": "stream",
     "text": [
      "0.9741935483870968\n",
      "time consumed is 4.954510927200317\n"
     ]
    }
   ],
   "source": [
    "# apply random forest\n",
    "import time\n",
    "start = time.time()\n",
    "from sklearn.ensemble import RandomForestClassifier\n",
    "from sklearn.metrics import accuracy_score\n",
    "model = RandomForestClassifier()\n",
    "model.fit(x_train, y_train)\n",
    "y_pred = model.predict(x_test)\n",
    "score = accuracy_score(y_pred, y_test)\n",
    "print(score)\n",
    "end = time.time()\n",
    "print(f'time consumed is {end-start}')"
   ]
  },
  {
   "cell_type": "code",
   "execution_count": 16,
   "id": "a72727bc-4ac1-477a-8220-4052b719e320",
   "metadata": {},
   "outputs": [
    {
     "name": "stderr",
     "output_type": "stream",
     "text": [
      "C:\\Users\\Raman\\AppData\\Local\\Programs\\Python\\Python39\\lib\\site-packages\\xgboost\\sklearn.py:1224: UserWarning: The use of label encoder in XGBClassifier is deprecated and will be removed in a future release. To remove this warning, do the following: 1) Pass option use_label_encoder=False when constructing XGBClassifier object; and 2) Encode your labels (y) as integers starting with 0, i.e. 0, 1, 2, ..., [num_class - 1].\n",
      "  warnings.warn(label_encoder_deprecation_msg, UserWarning)\n"
     ]
    },
    {
     "name": "stdout",
     "output_type": "stream",
     "text": [
      "[15:45:25] WARNING: C:/Users/Administrator/workspace/xgboost-win64_release_1.5.0/src/learner.cc:1115: Starting in XGBoost 1.3.0, the default evaluation metric used with the objective 'binary:logistic' was changed from 'error' to 'logloss'. Explicitly set eval_metric if you'd like to restore the old behavior.\n",
      "0.9730205278592375\n",
      "time consumed is 1.7574970722198486\n"
     ]
    }
   ],
   "source": [
    "# apply xgboost\n",
    "import time\n",
    "start = time.time()\n",
    "import xgboost as xgb\n",
    "from sklearn.metrics import accuracy_score\n",
    "model = xgb.XGBClassifier()\n",
    "model.fit(x_train, y_train)\n",
    "y_pred = model.predict(x_test)\n",
    "score = accuracy_score(y_pred, y_test)\n",
    "print(score)\n",
    "end = time.time()\n",
    "print(f'time consumed is {end-start}')"
   ]
  },
  {
   "cell_type": "code",
   "execution_count": null,
   "id": "b99c5b89-778c-4249-9e8b-16e18311a06d",
   "metadata": {},
   "outputs": [],
   "source": []
  }
 ],
 "metadata": {
  "kernelspec": {
   "display_name": "Python 3 (ipykernel)",
   "language": "python",
   "name": "python3"
  },
  "language_info": {
   "codemirror_mode": {
    "name": "ipython",
    "version": 3
   },
   "file_extension": ".py",
   "mimetype": "text/x-python",
   "name": "python",
   "nbconvert_exporter": "python",
   "pygments_lexer": "ipython3",
   "version": "3.9.8"
  }
 },
 "nbformat": 4,
 "nbformat_minor": 5
}
